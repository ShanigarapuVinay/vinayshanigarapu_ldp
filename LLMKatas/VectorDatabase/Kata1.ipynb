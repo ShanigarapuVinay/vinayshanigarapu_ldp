{
 "cells": [
  {
   "cell_type": "code",
   "execution_count": 1,
   "id": "5a7bd110-261a-4c2a-a3d8-611be2a89ea5",
   "metadata": {},
   "outputs": [],
   "source": [
    "import openai\n",
    "import numpy as np\n",
    "import faiss\n",
    "from dotenv import load_dotenv\n",
    "import os\n",
    "from typing import List, Tuple\n",
    "\n",
    "load_dotenv()\n",
    "openai.api_key = os.getenv('OPENAI_API_KEY')"
   ]
  },
  {
   "cell_type": "markdown",
   "id": "333726c2-e2bc-479a-b071-4b61915dfcbb",
   "metadata": {},
   "source": [
    "## Prepare sample documents"
   ]
  },
  {
   "cell_type": "code",
   "execution_count": 2,
   "id": "5262006d-9ba3-4cce-97bc-29cafaef9e8e",
   "metadata": {},
   "outputs": [],
   "source": [
    "\n",
    "documents = [\n",
    "    \"The quick brown fox jumps over the lazy dog\",\n",
    "    \"Machine learning is a subset of artificial intelligence\",\n",
    "    \"Python is a popular programming language\",\n",
    "    \"Natural language processing helps computers understand human language\",\n",
    "    \"Vector databases are optimized for similarity search operations\"\n",
    "]"
   ]
  },
  {
   "cell_type": "markdown",
   "id": "fbb4d0df-dc46-4261-b45e-ce398a4cd77a",
   "metadata": {},
   "source": [
    "## Function to generate embeddings using OpenAI"
   ]
  },
  {
   "cell_type": "code",
   "execution_count": 3,
   "id": "3f8b5602-19be-405a-ae25-250810289504",
   "metadata": {},
   "outputs": [],
   "source": [
    "def create_embeddings(texts: List[str]) -> np.ndarray:\n",
    "    \"\"\"\n",
    "    Generate embeddings for a list of texts using OpenAI's API\n",
    "    \"\"\"\n",
    "    try:\n",
    "        response = openai.Embedding.create(\n",
    "            input=texts,\n",
    "            model=\"text-embedding-ada-002\"\n",
    "        )\n",
    "        embeddings = [embedding['embedding'] for embedding in response['data']]\n",
    "        return np.array(embeddings).astype('float32')\n",
    "    except Exception as e:\n",
    "        print(f\"Error generating embeddings: {e}\")\n",
    "        raise"
   ]
  },
  {
   "cell_type": "markdown",
   "id": "04815c80-71f1-48e3-9fae-f02f12e85ffa",
   "metadata": {},
   "source": [
    "##  Initialize and populate FAISS index"
   ]
  },
  {
   "cell_type": "code",
   "execution_count": 4,
   "id": "39c95f1d-a1e8-4884-b137-a5496a5762b9",
   "metadata": {},
   "outputs": [],
   "source": [
    "def initialize_vector_db(embeddings: np.ndarray) -> faiss.IndexFlatIP:\n",
    "    \"\"\"\n",
    "    Initialize FAISS index with cosine similarity\n",
    "    Note: IndexFlatIP is used for cosine similarity when vectors are normalized\n",
    "    \"\"\"\n",
    "    dimension = embeddings.shape[1]\n",
    "    \n",
    "    index = faiss.IndexFlatIP(dimension)\n",
    "    \n",
    "    faiss.normalize_L2(embeddings)\n",
    "    \n",
    "    index.add(embeddings)\n",
    "    \n",
    "    print(f\"Vector database initialized with {len(embeddings)} vectors of dimension {dimension}\")\n",
    "    return index"
   ]
  },
  {
   "cell_type": "markdown",
   "id": "1f0bef02-7f54-42a2-a870-822d879ea771",
   "metadata": {},
   "source": [
    "## Function to perform similarity search"
   ]
  },
  {
   "cell_type": "code",
   "execution_count": 5,
   "id": "acab8e91-5978-4324-999b-38d67099c579",
   "metadata": {},
   "outputs": [],
   "source": [
    "def cosine_similarity_search(\n",
    "    query: str,\n",
    "    index: faiss.IndexFlatIP,\n",
    "    documents: List[str],\n",
    "    n_results: int = 3\n",
    ") -> List[Tuple[str, float]]:\n",
    "    \"\"\"\n",
    "    Perform cosine similarity search for a query\n",
    "    Returns list of (document, similarity_score) tuples\n",
    "    \"\"\"\n",
    "    query_embedding = create_embeddings([query])[0]\n",
    "    \n",
    "    query_embedding = query_embedding.reshape(1, -1)\n",
    "    faiss.normalize_L2(query_embedding)\n",
    "    \n",
    "    similarities, indices = index.search(query_embedding, n_results)\n",
    "    \n",
    "    results = [\n",
    "        (documents[idx], float(score))\n",
    "        for idx, score in zip(indices[0], similarities[0])\n",
    "    ]\n",
    "    \n",
    "    return results\n"
   ]
  },
  {
   "cell_type": "markdown",
   "id": "5b7af642-6f95-4393-8e5a-956847165770",
   "metadata": {},
   "source": [
    "## Main execution"
   ]
  },
  {
   "cell_type": "code",
   "execution_count": 6,
   "id": "4c44319c-bbb9-477d-b134-6464490a8c10",
   "metadata": {},
   "outputs": [
    {
     "name": "stdout",
     "output_type": "stream",
     "text": [
      "Generating embeddings...\n",
      "Initializing vector database...\n",
      "Vector database initialized with 5 vectors of dimension 1536\n"
     ]
    }
   ],
   "source": [
    "print(\"Generating embeddings...\")\n",
    "embeddings = create_embeddings(documents)\n",
    "\n",
    "print(\"Initializing vector database...\")\n",
    "index = initialize_vector_db(embeddings)"
   ]
  },
  {
   "cell_type": "code",
   "execution_count": 7,
   "id": "ddb0cd0e-0eb4-472e-a8b8-2877ea69be47",
   "metadata": {},
   "outputs": [
    {
     "name": "stdout",
     "output_type": "stream",
     "text": [
      "\n",
      "Query: What is artificial intelligence?\n",
      "\n",
      "Most similar documents:\n",
      "- Score 0.8817: Machine learning is a subset of artificial intelligence\n",
      "- Score 0.8210: Natural language processing helps computers understand human language\n",
      "- Score 0.7651: Python is a popular programming language\n"
     ]
    }
   ],
   "source": [
    "def search_documents(query: str, n_results: int = 3):\n",
    "    \"\"\"\n",
    "    Search for similar documents and display results\n",
    "    \"\"\"\n",
    "    results = cosine_similarity_search(query, index, documents, n_results)\n",
    "    \n",
    "    print(f\"\\nQuery: {query}\")\n",
    "    print(\"\\nMost similar documents:\")\n",
    "    for doc, score in results:\n",
    "        print(f\"- Score {score:.4f}: {doc}\")\n",
    "\n",
    "query = \"What is artificial intelligence?\"\n",
    "search_documents(query)"
   ]
  },
  {
   "cell_type": "code",
   "execution_count": null,
   "id": "cfc608ab-3f46-4a51-9771-3663c5909566",
   "metadata": {},
   "outputs": [],
   "source": []
  }
 ],
 "metadata": {
  "kernelspec": {
   "display_name": "Python 3 (ipykernel)",
   "language": "python",
   "name": "python3"
  },
  "language_info": {
   "codemirror_mode": {
    "name": "ipython",
    "version": 3
   },
   "file_extension": ".py",
   "mimetype": "text/x-python",
   "name": "python",
   "nbconvert_exporter": "python",
   "pygments_lexer": "ipython3",
   "version": "3.12.3"
  }
 },
 "nbformat": 4,
 "nbformat_minor": 5
}
