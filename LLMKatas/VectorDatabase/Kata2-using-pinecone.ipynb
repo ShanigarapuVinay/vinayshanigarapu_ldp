{
 "cells": [
  {
   "cell_type": "markdown",
   "id": "1c9d9c33-9aea-4e1e-997d-9a4711285786",
   "metadata": {},
   "source": [
    "## Create Pinecone client"
   ]
  },
  {
   "cell_type": "code",
   "execution_count": 1,
   "id": "931cd05b-410b-475f-b947-07670866061d",
   "metadata": {},
   "outputs": [],
   "source": [
    "import os\n",
    "import pinecone\n",
    "import openai\n",
    "import pandas as pd\n",
    "from dotenv import load_dotenv\n",
    "from pinecone import Pinecone, ServerlessSpec\n",
    "\n",
    "load_dotenv()\n",
    "\n",
    "openai.api_key = os.getenv('OPENAI_API_KEY')\n",
    "\n",
    "pc = pinecone.Pinecone(\n",
    "    api_key=os.getenv(\"PINECONE_API_KEY\")\n",
    ")"
   ]
  },
  {
   "cell_type": "markdown",
   "id": "5af855ac-32ca-4119-8e63-ae37ef43b4cd",
   "metadata": {},
   "source": [
    "## Check if the index exists, if not, create it"
   ]
  },
  {
   "cell_type": "code",
   "execution_count": 2,
   "id": "8f4a648e-f468-423e-b2b1-44bebeb9078c",
   "metadata": {},
   "outputs": [],
   "source": [
    "index_name = \"hybrid-search\"\n",
    "\n",
    "if index_name not in pc.list_indexes().names():\n",
    "    pc.create_index(\n",
    "        name=index_name,\n",
    "        dimension=1536,\n",
    "        metric=\"cosine\",\n",
    "        spec=ServerlessSpec(\n",
    "            cloud=\"aws\",\n",
    "            region=\"us-east-1\"\n",
    "        ) \n",
    "    )"
   ]
  },
  {
   "cell_type": "code",
   "execution_count": 3,
   "id": "56e00526-220b-4cd3-bfb2-1fdae8f84711",
   "metadata": {},
   "outputs": [
    {
     "name": "stdout",
     "output_type": "stream",
     "text": [
      "Existing indexes: {'indexes': [{'deletion_protection': 'disabled',\n",
      "              'dimension': 1536,\n",
      "              'host': 'hybrid-search-ofm2ubh.svc.aped-4627-b74a.pinecone.io',\n",
      "              'metric': 'cosine',\n",
      "              'name': 'hybrid-search',\n",
      "              'spec': {'serverless': {'cloud': 'aws', 'region': 'us-east-1'}},\n",
      "              'status': {'ready': True, 'state': 'Ready'}}]}\n"
     ]
    }
   ],
   "source": [
    "existing_indexes = pc.list_indexes()\n",
    "print(\"Existing indexes:\", existing_indexes)"
   ]
  },
  {
   "cell_type": "markdown",
   "id": "cb5ed7d5-75a7-4478-a51e-5bd83a11d4d3",
   "metadata": {},
   "source": [
    "## Check if the index exists and delete it"
   ]
  },
  {
   "cell_type": "code",
   "execution_count": 4,
   "id": "aa46e497-69d4-4de9-898b-1c5c17216010",
   "metadata": {},
   "outputs": [
    {
     "name": "stdout",
     "output_type": "stream",
     "text": [
      "Index hybrid-search deleted.\n"
     ]
    }
   ],
   "source": [
    "if index_name in pc.list_indexes().names():\n",
    "    pc.delete_index(index_name)\n",
    "    print(f\"Index {index_name} deleted.\")\n"
   ]
  },
  {
   "cell_type": "code",
   "execution_count": 4,
   "id": "f6d1ec95-9a6a-453a-af4f-68dc930abe15",
   "metadata": {},
   "outputs": [],
   "source": [
    "index = pc.Index(index_name)"
   ]
  },
  {
   "cell_type": "markdown",
   "id": "75b240f3-333e-4d7c-a06b-ad931e3658f4",
   "metadata": {},
   "source": [
    "## Sample documents with metadata"
   ]
  },
  {
   "cell_type": "code",
   "execution_count": 5,
   "id": "2a9bcecd-e3bb-48d8-9efd-3ebf7277be63",
   "metadata": {},
   "outputs": [],
   "source": [
    "documents = [\n",
    "    {\n",
    "        \"title\": \"Introduction to Machine Learning\",\n",
    "        \"content\": \"Machine learning is a subset of artificial intelligence that focuses on data and algorithms.\",\n",
    "        \"author\": \"John Smith\",\n",
    "        \"date\": \"2024-01-15\",\n",
    "        \"category\": \"AI\"\n",
    "    },\n",
    "    {\n",
    "        \"title\": \"Python Programming Basics\",\n",
    "        \"content\": \"Python is a high-level programming language known for its simplicity.\",\n",
    "        \"author\": \"Jane Doe\",\n",
    "        \"date\": \"2024-02-20\",\n",
    "        \"category\": \"Programming\"\n",
    "    },\n",
    "    {\n",
    "        \"title\": \"Deep Learning Fundamentals\",\n",
    "        \"content\": \"Deep learning is a subset of machine learning using neural networks.\",\n",
    "        \"author\": \"John Smith\",\n",
    "        \"date\": \"2024-03-10\",\n",
    "        \"category\": \"AI\"\n",
    "    },\n",
    "    {\n",
    "        \"title\": \"Data Structures in Python\",\n",
    "        \"content\": \"Understanding data structures is crucial for efficient programming.\",\n",
    "        \"author\": \"Jane Doe\",\n",
    "        \"date\": \"2024-03-15\",\n",
    "        \"category\": \"Programming\"\n",
    "    }\n",
    "]"
   ]
  },
  {
   "cell_type": "markdown",
   "id": "09e13b9b-95ce-4e83-b766-71a60c07637d",
   "metadata": {},
   "source": [
    "## Function to create embeddings using OpenAI API"
   ]
  },
  {
   "cell_type": "code",
   "execution_count": 6,
   "id": "22f5399d-805a-48d3-bad3-f0c75ffcea49",
   "metadata": {},
   "outputs": [
    {
     "name": "stdout",
     "output_type": "stream",
     "text": [
      "Documents and embeddings uploaded to Pinecone.\n"
     ]
    }
   ],
   "source": [
    "def create_embeddings(texts):\n",
    "    response = openai.Embedding.create(input=texts, model=\"text-embedding-ada-002\")\n",
    "    return [item['embedding'] for item in response['data']]\n",
    "\n",
    "# Generate embeddings for the document content\n",
    "contents = [doc['content'] for doc in documents]\n",
    "embeddings = create_embeddings(contents)\n",
    "\n",
    "# Upsert documents into Pinecone with metadata\n",
    "for doc, embedding in zip(documents, embeddings):\n",
    "    metadata = {k: doc[k] for k in ['title', 'author', 'date', 'category']}\n",
    "    index.upsert(vectors=[(doc['title'], embedding, metadata)])\n",
    "\n",
    "print(\"Documents and embeddings uploaded to Pinecone.\")\n"
   ]
  },
  {
   "cell_type": "markdown",
   "id": "b9988e59-6480-4166-b894-2b84c1c6664e",
   "metadata": {},
   "source": [
    "## Implement the Hybrid Search Function"
   ]
  },
  {
   "cell_type": "code",
   "execution_count": 8,
   "id": "681c25de-840d-4add-96aa-39534e466ac8",
   "metadata": {},
   "outputs": [
    {
     "name": "stdout",
     "output_type": "stream",
     "text": [
      "\n",
      "Results:\n",
      "Title: Introduction to Machine Learning, Author: John Smith, Similarity: 0.8680\n",
      "Title: Deep Learning Fundamentals, Author: John Smith, Similarity: 0.8479\n"
     ]
    }
   ],
   "source": [
    "def hybrid_search(query, metadata_filters=None, top_k=3):\n",
    "    # Step 1: Filter documents by metadata\n",
    "    query_filter = {}\n",
    "    if metadata_filters:\n",
    "        query_filter = {k: {\"$eq\": v} for k, v in metadata_filters.items()}\n",
    "\n",
    "    # Step 2: Create embedding for the query\n",
    "    query_embedding = create_embeddings([query])[0]\n",
    "\n",
    "    # Step 3: Perform vector search with metadata filtering\n",
    "    results = index.query(\n",
    "        vector=query_embedding,\n",
    "        top_k=top_k,\n",
    "        filter=query_filter,\n",
    "        include_metadata=True\n",
    "    )\n",
    "    \n",
    "    # Step 4: Return the ranked results\n",
    "    return results\n",
    "\n",
    "query = \"machine learning concepts\"\n",
    "metadata_filters = {\"author\": \"John Smith\", \"category\": \"AI\"}\n",
    "\n",
    "results = hybrid_search(query, metadata_filters)\n",
    "print(\"\\nResults:\")\n",
    "for match in results['matches']:\n",
    "    print(f\"Title: {match['metadata']['title']}, Author: {match['metadata']['author']}, Similarity: {match['score']:.4f}\")\n"
   ]
  },
  {
   "cell_type": "code",
   "execution_count": null,
   "id": "0a74ebe2-6bab-4ffb-9323-e073bbc397e7",
   "metadata": {},
   "outputs": [],
   "source": []
  }
 ],
 "metadata": {
  "kernelspec": {
   "display_name": "Python 3 (ipykernel)",
   "language": "python",
   "name": "python3"
  },
  "language_info": {
   "codemirror_mode": {
    "name": "ipython",
    "version": 3
   },
   "file_extension": ".py",
   "mimetype": "text/x-python",
   "name": "python",
   "nbconvert_exporter": "python",
   "pygments_lexer": "ipython3",
   "version": "3.12.3"
  }
 },
 "nbformat": 4,
 "nbformat_minor": 5
}
